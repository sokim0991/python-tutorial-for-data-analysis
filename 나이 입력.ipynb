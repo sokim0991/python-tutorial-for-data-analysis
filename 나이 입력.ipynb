{
 "cells": [
  {
   "cell_type": "code",
   "execution_count": 1,
   "metadata": {},
   "outputs": [
    {
     "name": "stdout",
     "output_type": "stream",
     "text": [
      "나이가 어떻게 되시나요? 39\n",
      "흠..40을 바라 보시는군요\n"
     ]
    }
   ],
   "source": [
    "#조건문은 사용하지 말것\n",
    "#(input함수, print함수, 산술연산자)만 활용하여 완성할 것\n",
    "#나이는 10 ~ 99세 까지만 입력된다고 가정\n",
    "\n",
    "age = int(input('나이가 어떻게 되시나요? '))\n",
    "roundup1 = str(age+10)\n",
    "roundup2 = roundup1[0]+'0'\n",
    "print('흠..'+roundup2+'을 바라 보시는군요')"
   ]
  }
 ],
 "metadata": {
  "kernelspec": {
   "display_name": "Python 3",
   "language": "python",
   "name": "python3"
  },
  "language_info": {
   "codemirror_mode": {
    "name": "ipython",
    "version": 3
   },
   "file_extension": ".py",
   "mimetype": "text/x-python",
   "name": "python",
   "nbconvert_exporter": "python",
   "pygments_lexer": "ipython3",
   "version": "3.8.2"
  }
 },
 "nbformat": 4,
 "nbformat_minor": 4
}
