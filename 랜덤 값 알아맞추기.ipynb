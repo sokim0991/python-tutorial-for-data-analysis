{
 "cells": [
  {
   "cell_type": "code",
   "execution_count": 1,
   "metadata": {},
   "outputs": [
    {
     "name": "stdout",
     "output_type": "stream",
     "text": [
      "제가 생각하는 수를 입력 하시오 > 25\n",
      "더 크게 생각해보세요\n",
      "제가 생각하는 수를 입력 하시오 > 40\n",
      "더 크게 생각해보세요\n",
      "제가 생각하는 수를 입력 하시오 > 50\n",
      "너무 큽니다. 더 줄이세요 ㅎㅎ\n",
      "제가 생각하는 수를 입력 하시오 > 45\n",
      "더 크게 생각해보세요\n",
      "제가 생각하는 수를 입력 하시오 > 47\n",
      "더 크게 생각해보세요\n",
      "제가 생각하는 수를 입력 하시오 > 48\n",
      "대단하군요. 정답 입니다.\n"
     ]
    }
   ],
   "source": [
    "import random\n",
    "\n",
    "num = random.randint(0, 50) \n",
    "\n",
    "while True:\n",
    "    answer = int(input('제가 생각하는 수를 입력 하시오 > '))\n",
    "    if answer > num:        \n",
    "        print('너무 큽니다. 더 줄이세요 ㅎㅎ')\n",
    "    elif answer < num:\n",
    "        print('더 크게 생각해보세요')\n",
    "    else:\n",
    "        print('대단하군요. 정답 입니다.')\n",
    "        break"
   ]
  }
 ],
 "metadata": {
  "kernelspec": {
   "display_name": "Python 3",
   "language": "python",
   "name": "python3"
  },
  "language_info": {
   "codemirror_mode": {
    "name": "ipython",
    "version": 3
   },
   "file_extension": ".py",
   "mimetype": "text/x-python",
   "name": "python",
   "nbconvert_exporter": "python",
   "pygments_lexer": "ipython3",
   "version": "3.8.2"
  }
 },
 "nbformat": 4,
 "nbformat_minor": 4
}
