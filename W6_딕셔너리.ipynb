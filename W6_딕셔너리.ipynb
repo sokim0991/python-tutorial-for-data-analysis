{
 "cells": [
  {
   "cell_type": "code",
   "execution_count": 3,
   "metadata": {},
   "outputs": [
    {
     "name": "stdout",
     "output_type": "stream",
     "text": [
      "{20190001: ['홍길동', '1992-01-02', '010-1111-2222'], 20190002: ['이순신', '1987-07-13', '091-2222-2222'], 20190003: ['장보고', '1999-05-22', '011-3333-3333']}\n",
      "dict_values([['홍길동', '1992-01-02', '010-1111-2222'], ['이순신', '1987-07-13', '091-2222-2222'], ['장보고', '1999-05-22', '011-3333-3333']])\n",
      "dict_keys([20190001, 20190002, 20190003])\n",
      "dict_items([(20190001, ['홍길동', '1992-01-02', '010-1111-2222']), (20190002, ['이순신', '1987-07-13', '091-2222-2222']), (20190003, ['장보고', '1999-05-22', '011-3333-3333'])])\n"
     ]
    }
   ],
   "source": [
    "cellphone_info = {20190001: ['홍길동', '1992-01-02', '010-1111-2222'],\n",
    "                  20190002: ['이순신','1987-07-13', '091-2222-2222'],\n",
    "                  20190003: ['장보고','1999-05-22', '011-3333-3333']}\n",
    "\n",
    "print(cellphone_info)\n",
    "print(cellphone_info.values())\n",
    "print(cellphone_info.keys())\n",
    "print(cellphone_info.items())"
   ]
  }
 ],
 "metadata": {
  "kernelspec": {
   "display_name": "Python 3",
   "language": "python",
   "name": "python3"
  },
  "language_info": {
   "codemirror_mode": {
    "name": "ipython",
    "version": 3
   },
   "file_extension": ".py",
   "mimetype": "text/x-python",
   "name": "python",
   "nbconvert_exporter": "python",
   "pygments_lexer": "ipython3",
   "version": "3.8.3"
  }
 },
 "nbformat": 4,
 "nbformat_minor": 4
}
