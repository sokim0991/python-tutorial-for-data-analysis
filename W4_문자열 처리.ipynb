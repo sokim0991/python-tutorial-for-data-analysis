{
 "cells": [
  {
   "cell_type": "code",
   "execution_count": 5,
   "metadata": {
    "scrolled": true
   },
   "outputs": [
    {
     "name": "stdout",
     "output_type": "stream",
     "text": [
      "분자를 입력하시오> 17\n",
      "분모를 입력하시오> 5\n",
      "---------------------------------------\n",
      "나눗셈의 몫 = 3\n",
      "나눗셈의 나머지 = 2\n"
     ]
    }
   ],
   "source": [
    "#1\n",
    "a = int(input('분자를 입력하시오> '))\n",
    "b = int(input('분모를 입력하시오> '))\n",
    "c = a // b\n",
    "d = a % b\n",
    "print('---------------------------------------')\n",
    "print('나눗셈의 몫 =', c)\n",
    "print('나눗셈의 나머지 =', d)"
   ]
  },
  {
   "cell_type": "code",
   "execution_count": 8,
   "metadata": {},
   "outputs": [
    {
     "name": "stdout",
     "output_type": "stream",
     "text": [
      "Sec를 입력하시오 >>70\n",
      "1 분 10 초 입니다!\n"
     ]
    }
   ],
   "source": [
    "#2 \n",
    "#초단위의 시간을 받아서 몇 분 몇 초인지를 계산하기 위한 프로그램을 작성하시오\n",
    "a = int(input('Sec를 입력하시오 >>'))\n",
    "print(a//60, '분', a%60, '초 입니다!')"
   ]
  },
  {
   "cell_type": "code",
   "execution_count": 9,
   "metadata": {},
   "outputs": [
    {
     "name": "stdout",
     "output_type": "stream",
     "text": [
      "화씨 온도를 입력하시오 >> 100\n",
      "섭씨온도는 37.77777777777778 도입니다\n"
     ]
    }
   ],
   "source": [
    "#3\n",
    "#화씨온도 ( 를 섭씨온도 ( 로 변경하기 위한 프로그램을 작성하시오\n",
    "f = float(input('화씨 온도를 입력하시오 >> '))\n",
    "c = (f-32) * 5 / 9\n",
    "print('섭씨온도는', c,'도입니다')"
   ]
  },
  {
   "cell_type": "code",
   "execution_count": 10,
   "metadata": {},
   "outputs": [
    {
     "name": "stdout",
     "output_type": "stream",
     "text": [
      "x1: 0\n",
      "y1: 0\n",
      "x2: 1\n",
      "y2: 1\n",
      "두 점 사이의 거리 = 1.4142135623730951\n"
     ]
    }
   ],
   "source": [
    "#4\n",
    "#두 점 사이의 거리를 계산하기 위한 프로그램을 작성하시오\n",
    "x1 = int(input('x1: '))\n",
    "y1 = int(input('y1: '))\n",
    "x2 = int(input('x2: '))\n",
    "y2 = int(input('y2: '))\n",
    "\n",
    "d = ((x1 - x2)**2 + (y1 - y2)**2)**0.5\n",
    "print('두 점 사이의 거리 =', d)"
   ]
  },
  {
   "cell_type": "code",
   "execution_count": 25,
   "metadata": {
    "scrolled": false
   },
   "outputs": [
    {
     "name": "stdout",
     "output_type": "stream",
     "text": [
      "*\t*\t*\t*\t*\t\n",
      "\"University\"\n",
      "*****************\n"
     ]
    }
   ],
   "source": [
    "#5\n",
    "#조건 1) 특수 문자와 문자열 덧셈 곱셈 연산을 활용\n",
    "#조건 2 ) 1 줄로 가능한 간략히 작성\n",
    "#조건 3) * 연산자 적용\n",
    "\n",
    "\n",
    "print('*\\t'*5)\n",
    "print('\"Korea University\"')\n",
    "print('*'*17)"
   ]
  },
  {
   "cell_type": "code",
   "execution_count": 40,
   "metadata": {},
   "outputs": [
    {
     "name": "stdout",
     "output_type": "stream",
     "text": [
      "*\t*\t*\t*\t*\t\n",
      "\"University\"\n",
      "*****************\n"
     ]
    }
   ],
   "source": [
    "print('*\\t'*5 + '\\n\"University\"\\n' + '*'*17)"
   ]
  },
  {
   "cell_type": "code",
   "execution_count": null,
   "metadata": {},
   "outputs": [],
   "source": [
    "#6"
   ]
  },
  {
   "cell_type": "code",
   "execution_count": 50,
   "metadata": {},
   "outputs": [
    {
     "name": "stdout",
     "output_type": "stream",
     "text": [
      "길동\n",
      "길상\n",
      "용녀\n",
      "영재\n"
     ]
    }
   ],
   "source": [
    "#7\n",
    "#특정한 문자만 선택하여 출력하기\n",
    "name1 = '홍길동'\n",
    "name2 = '유길상'\n",
    "name3 = '선우용녀'\n",
    "name4 = '독고영재'\n",
    "print(name1[-2:])\n",
    "print(name2[-2:])\n",
    "print(name3[-2:])\n",
    "print(name4[-2:])"
   ]
  },
  {
   "cell_type": "code",
   "execution_count": 55,
   "metadata": {},
   "outputs": [
    {
     "name": "stdout",
     "output_type": "stream",
     "text": [
      "나는 자랑스런 태극기 앞에 \n",
      "조국과 민족의 무궁한 영광을 위하여 몸과 마음을 \n",
      "바쳐 충성을 다할 것을 굳게 다짐합니다 \n"
     ]
    }
   ],
   "source": [
    "#8\n",
    "korea = \"나는 자랑스런 태극기 앞에 \\n조국과 민족의 무궁한 영광을 위하여 몸과 마음을 \\n바쳐 충성을 다할 것을 굳게 다짐합니다 \"\n",
    "print(korea)"
   ]
  },
  {
   "cell_type": "code",
   "execution_count": 52,
   "metadata": {},
   "outputs": [
    {
     "name": "stdout",
     "output_type": "stream",
     "text": [
      "이름을 입렵하시오: >> 홍길동\n",
      "나이를 입력하시오 >> 32\n",
      "홍길동 님의 나이는 27 살 처럼 보입니다\n"
     ]
    }
   ],
   "source": [
    "#9\n",
    "name = input('이름을 입렵하시오: >> ')\n",
    "age = int(input('나이를 입력하시오 >> '))\n",
    "lie = age-5\n",
    "print(name, '님의 나이는', lie,'살 처럼 보입니다')"
   ]
  },
  {
   "cell_type": "code",
   "execution_count": 65,
   "metadata": {},
   "outputs": [
    {
     "name": "stdout",
     "output_type": "stream",
     "text": [
      "학번을 입력하세요: >> 2019512020\n",
      "입학년도: 2019\n",
      "학생번호: 512020\n"
     ]
    }
   ],
   "source": [
    "#10\n",
    "sn = input('학번을 입력하세요: >> ')\n",
    "print('입학년도:', sn[:4]+'\\n학생번호:',sn[4:])"
   ]
  }
 ],
 "metadata": {
  "kernelspec": {
   "display_name": "Python 3",
   "language": "python",
   "name": "python3"
  },
  "language_info": {
   "codemirror_mode": {
    "name": "ipython",
    "version": 3
   },
   "file_extension": ".py",
   "mimetype": "text/x-python",
   "name": "python",
   "nbconvert_exporter": "python",
   "pygments_lexer": "ipython3",
   "version": "3.8.3"
  }
 },
 "nbformat": 4,
 "nbformat_minor": 4
}
