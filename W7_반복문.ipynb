{
 "cells": [
  {
   "cell_type": "code",
   "execution_count": 1,
   "metadata": {
    "scrolled": false
   },
   "outputs": [
    {
     "name": "stdout",
     "output_type": "stream",
     "text": [
      "원하는 단수를 입력 하시오 > 88\n",
      "88 * 1 =  88   88 * 9 = 792\n",
      "88 * 2 = 176   88 * 8 = 704\n",
      "88 * 3 = 264   88 * 7 = 616\n",
      "88 * 4 = 352   88 * 6 = 528\n",
      "88 * 5 = 440   88 * 5 = 440\n",
      "88 * 6 = 528   88 * 4 = 352\n",
      "88 * 7 = 616   88 * 3 = 264\n",
      "88 * 8 = 704   88 * 2 = 176\n",
      "88 * 9 = 792   88 * 1 =  88\n"
     ]
    }
   ],
   "source": [
    "#사용자로 부터 1 부터 99 사이의 숫자를 입력 받고 , 입력 받은 숫자에 해당하는 구구단을 출력하는 프로그램을 작성하시오. (for 구문의 리스트를 활용)\n",
    "\n",
    "dan = int(input('원하는 단수를 입력 하시오 > '))\n",
    "if 1 < dan < 99:\n",
    "    for i in range(1, 10):\n",
    "        print('%d * %d = %3d   %d * %d = %3d' % (dan, i, dan * i, dan, 10-i, dan*(10-i)))"
   ]
  }
 ],
 "metadata": {
  "kernelspec": {
   "display_name": "Python 3",
   "language": "python",
   "name": "python3"
  },
  "language_info": {
   "codemirror_mode": {
    "name": "ipython",
    "version": 3
   },
   "file_extension": ".py",
   "mimetype": "text/x-python",
   "name": "python",
   "nbconvert_exporter": "python",
   "pygments_lexer": "ipython3",
   "version": "3.8.3"
  }
 },
 "nbformat": 4,
 "nbformat_minor": 4
}
