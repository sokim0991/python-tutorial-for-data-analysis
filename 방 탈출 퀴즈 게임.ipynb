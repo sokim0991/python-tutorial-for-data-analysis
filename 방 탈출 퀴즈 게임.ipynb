{
 "cells": [
  {
   "cell_type": "code",
   "execution_count": 1,
   "metadata": {
    "scrolled": true
   },
   "outputs": [
    {
     "name": "stdout",
     "output_type": "stream",
     "text": [
      "*****************\n",
      "방 탈출 퀴즈 게임\n",
      "*****************\n",
      "1. 좋아하는 수업은?python\n",
      "2. 빌게이츠 회장이 제일 싫어하는 친구의 이름은?tom\n",
      "3. 세상에서 가장 지겨운 중학교는?로딩중\n",
      "*****************\n",
      "방 탈출 퀴즈 게임\n",
      "*****************\n",
      "1. 좋아하는 수업은?파이썬\n",
      "2. 빌게이츠 회장이 제일 싫어하는 친구의 이름은?Tom\n",
      "3. 세상에서 가장 지겨운 중학교는?로딩중\n",
      "!!! 방탈출을 축하합니다.!!!\n"
     ]
    }
   ],
   "source": [
    "P_list = ['python', 'Python', 'PYTHON', '파이썬']\n",
    "start = '*****************' + '\\n방 탈출 퀴즈 게임\\n' + '*****************'\n",
    "\n",
    "while True:\n",
    "    print(start)\n",
    "    a = str(input('1. 좋아하는 수업은?'))\n",
    "    b = str(input('2. 빌게이츠 회장이 제일 싫어하는 친구의 이름은?'))\n",
    "    c = str(input('3. 세상에서 가장 지겨운 중학교는?'))\n",
    "    if a in P_list and b == 'Tom' and c == '로딩중' : \n",
    "            break\n",
    "print('!!! 방탈출을 축하합니다.!!!')"
   ]
  }
 ],
 "metadata": {
  "kernelspec": {
   "display_name": "Python 3",
   "language": "python",
   "name": "python3"
  },
  "language_info": {
   "codemirror_mode": {
    "name": "ipython",
    "version": 3
   },
   "file_extension": ".py",
   "mimetype": "text/x-python",
   "name": "python",
   "nbconvert_exporter": "python",
   "pygments_lexer": "ipython3",
   "version": "3.8.3"
  }
 },
 "nbformat": 4,
 "nbformat_minor": 4
}
